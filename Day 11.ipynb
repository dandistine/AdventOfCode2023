{
 "cells": [
  {
   "cell_type": "code",
   "execution_count": 25,
   "id": "b211f42e",
   "metadata": {},
   "outputs": [
    {
     "data": {
      "text/plain": [
       "array([[0, 0, 0, 1, 0, 0, 0, 0, 0, 0],\n",
       "       [0, 0, 0, 0, 0, 0, 0, 1, 0, 0],\n",
       "       [1, 0, 0, 0, 0, 0, 0, 0, 0, 0],\n",
       "       [0, 0, 0, 0, 0, 0, 0, 0, 0, 0],\n",
       "       [0, 0, 0, 0, 0, 0, 1, 0, 0, 0],\n",
       "       [0, 1, 0, 0, 0, 0, 0, 0, 0, 0],\n",
       "       [0, 0, 0, 0, 0, 0, 0, 0, 0, 1],\n",
       "       [0, 0, 0, 0, 0, 0, 0, 0, 0, 0],\n",
       "       [0, 0, 0, 0, 0, 0, 0, 1, 0, 0],\n",
       "       [1, 0, 0, 0, 1, 0, 0, 0, 0, 0]])"
      ]
     },
     "execution_count": 25,
     "metadata": {},
     "output_type": "execute_result"
    }
   ],
   "source": [
    "import numpy as np\n",
    "\n",
    "test = \"\"\"...#......\n",
    ".......#..\n",
    "#.........\n",
    "..........\n",
    "......#...\n",
    ".#........\n",
    ".........#\n",
    "..........\n",
    ".......#..\n",
    "#...#.....\"\"\"\n",
    "\n",
    "def parse_in(data_str=None):\n",
    "    if not data_str:\n",
    "        data_str = open(\"Inputs/Day11.txt\").read().strip()\n",
    "    lines = np.array([np.array([1 if x == \"#\" else 0 for x in y]) for y in data_str.split('\\n')])\n",
    "    \n",
    "    return lines\n",
    "\n",
    "def parse_in_(data_str=None):\n",
    "    if not data_str:\n",
    "        data_str = open(\"Inputs/Day11.txt\").read().strip()\n",
    "    lines = data_str.split('\\n')\n",
    "    \n",
    "    return lines\n",
    "\n",
    "parse_in(test)"
   ]
  },
  {
   "cell_type": "code",
   "execution_count": 23,
   "id": "c7581fd6",
   "metadata": {},
   "outputs": [
    {
     "name": "stdout",
     "output_type": "stream",
     "text": [
      "9686930\n",
      "630728425490\n",
      "644 ms ± 1.54 ms per loop (mean ± std. dev. of 7 runs, 1 loop each)\n"
     ]
    }
   ],
   "source": [
    "def part1(data_in, expansion_rate=2):\n",
    "    zero_rows = np.where(~data_in.any(axis=1))[0]\n",
    "    zero_cols = np.where(~data_in.any(axis=0))[0]\n",
    "    galaxies = np.where(data_in==1)\n",
    "    galaxies = list(zip(*galaxies[::-1]))\n",
    "    \n",
    "    total = 0\n",
    "    for i in range(len(galaxies)):\n",
    "        for j in range(i+1, len(galaxies)):\n",
    "            g1 = galaxies[i]\n",
    "            g2 = galaxies[j]\n",
    "            dx = abs(g1[0] - g2[0])\n",
    "            dy = abs(g1[1] - g2[1])\n",
    "\n",
    "            cx = sum(min(g1[0], g2[0]) < v < max(g1[0], g2[0]) for v in zero_cols)\n",
    "            cy = sum(min(g1[1], g2[1]) < v < max(g1[1], g2[1]) for v in zero_rows)\n",
    "            \n",
    "            total += dx + dy + (cx + cy) * (expansion_rate - 1)\n",
    "\n",
    "    return total\n",
    "\n",
    "print(part1(parse_in(),2)) #should be 9686930\n",
    "print(part1(parse_in(), 1000000)) #should be 630728425490\n",
    "\n",
    "%timeit part1(parse_in(), 1000000)"
   ]
  },
  {
   "cell_type": "code",
   "execution_count": 31,
   "id": "02e438dc",
   "metadata": {},
   "outputs": [
    {
     "name": "stdout",
     "output_type": "stream",
     "text": [
      "9686930\n",
      "630728425490\n",
      "316 ms ± 2.7 ms per loop (mean ± std. dev. of 7 runs, 1 loop each)\n"
     ]
    }
   ],
   "source": [
    "def part1_(data_in, expansion_rate=2):\n",
    "    zero_rows = [i for i in range(len(data_in)) if \"#\" not in data_in[i]]\n",
    "    zero_cols = [i for i in range(len(data_in[0])) if not any(data_in[j][i] == \"#\" for j in range(len(data_in)))]\n",
    "    galaxies = [(x, y) for y in range(len(data_in[0])) for x in range(len(data_in)) if data_in[y][x] == \"#\"]\n",
    "    \n",
    "    total = 0\n",
    "    for i in range(len(galaxies)):\n",
    "        for j in range(i+1, len(galaxies)):\n",
    "            g1 = galaxies[i]\n",
    "            g2 = galaxies[j]\n",
    "            x1,x2 = sorted((g1[0], g2[0]))\n",
    "            y1,y2 = sorted((g1[1], g2[1]))\n",
    "            \n",
    "            cx = sum(min(g1[0], g2[0]) < v < max(g1[0], g2[0]) for v in zero_cols)\n",
    "            cy = sum(min(g1[1], g2[1]) < v < max(g1[1], g2[1]) for v in zero_rows)\n",
    "            \n",
    "            total += x2 - x1 + y2 - y1 + (cx + cy) * (expansion_rate - 1)\n",
    "\n",
    "    return total\n",
    "    \n",
    "\n",
    "print(part1_(parse_in_(),2)) #should be 9686930\n",
    "print(part1_(parse_in_(), 1000000)) #should be 630728425490\n",
    "\n",
    "%timeit part1_(parse_in_(), 1000000)"
   ]
  },
  {
   "cell_type": "code",
   "execution_count": null,
   "id": "d6fe1176",
   "metadata": {},
   "outputs": [],
   "source": []
  }
 ],
 "metadata": {
  "kernelspec": {
   "display_name": "Python 3 (ipykernel)",
   "language": "python",
   "name": "python3"
  },
  "language_info": {
   "codemirror_mode": {
    "name": "ipython",
    "version": 3
   },
   "file_extension": ".py",
   "mimetype": "text/x-python",
   "name": "python",
   "nbconvert_exporter": "python",
   "pygments_lexer": "ipython3",
   "version": "3.9.12"
  }
 },
 "nbformat": 4,
 "nbformat_minor": 5
}
