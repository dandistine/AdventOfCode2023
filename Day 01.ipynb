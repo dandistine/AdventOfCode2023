{
 "cells": [
  {
   "cell_type": "code",
   "execution_count": 92,
   "id": "2d062a28",
   "metadata": {},
   "outputs": [],
   "source": [
    "def parse_in():\n",
    "    return [x for x in open(\"Inputs/Day01.txt\").read().strip().split('\\n')]\n",
    "\n",
    "data = parse_in()\n",
    "\n",
    "data_test = \"\"\"two1nine\n",
    "eightwothree\n",
    "abcone2threexyz\n",
    "xtwone3four\n",
    "4nineeightseven2\n",
    "zoneight234\n",
    "7pqrstsixteen\"\"\".split('\\n')"
   ]
  },
  {
   "cell_type": "code",
   "execution_count": 93,
   "id": "b3fa4508",
   "metadata": {},
   "outputs": [
    {
     "name": "stdout",
     "output_type": "stream",
     "text": [
      "55208\n"
     ]
    }
   ],
   "source": [
    "def part1(data_in):\n",
    "    digits = \"0123456789\"\n",
    "    val = 0\n",
    "    for l in data_in:\n",
    "        d = [int(x) for x in l if x in digits]\n",
    "        val += 10 * d[0] + d[-1]\n",
    "    return val\n",
    "print(part1(data)) #should be 55208"
   ]
  },
  {
   "cell_type": "code",
   "execution_count": 94,
   "id": "956b4963",
   "metadata": {},
   "outputs": [
    {
     "name": "stdout",
     "output_type": "stream",
     "text": [
      "54578\n",
      "1.85 ms ± 42.2 µs per loop (mean ± std. dev. of 7 runs, 1,000 loops each)\n"
     ]
    }
   ],
   "source": [
    "def first(s):\n",
    "    digits = \"0123456789\"\n",
    "    nums = {\"one\" : 1, \"two\" : 2, \"three\" : 3, \"four\": 4, \"five\":5, \"six\":6, \"seven\":7,\"eight\":8, \"nine\":9}\n",
    "    ends = \"eorxnt\"\n",
    "    r = \"\"\n",
    "    \n",
    "    for x in s:\n",
    "        if x in digits:\n",
    "            return ord(x) - 48\n",
    "        r += x\n",
    "        if x in ends:\n",
    "            for num, n in nums.items():\n",
    "                if num in r:\n",
    "                    return n\n",
    "def last(s):\n",
    "    digits = \"0123456789\"\n",
    "    nums = {\"eno\" : 1, \"owt\" : 2, \"eerht\" : 3, \"ruof\": 4, \"evif\":5, \"xis\":6, \"neves\":7,\"thgie\":8, \"enin\":9}\n",
    "    ends = \"otfsen\"\n",
    "    r = \"\"\n",
    "    \n",
    "    for x in reversed(s):\n",
    "        if x in digits:\n",
    "            return ord(x) - 48\n",
    "        r += x\n",
    "        if x in ends:\n",
    "            for num, n in nums.items():\n",
    "                if num in r:\n",
    "                    return n\n",
    "\n",
    "def part2(data_in):\n",
    "    return sum([10*first(l)+last(l) for l in data_in])\n",
    "\n",
    "print(part2(data)) #should be 54578\n",
    "%timeit part2(data)"
   ]
  },
  {
   "cell_type": "code",
   "execution_count": 95,
   "id": "29d55096",
   "metadata": {},
   "outputs": [
    {
     "name": "stdout",
     "output_type": "stream",
     "text": [
      "55208\n",
      "54578\n",
      "Part 1\n",
      "670 µs ± 5.51 µs per loop (mean ± std. dev. of 7 runs, 1,000 loops each)\n",
      "Part 2\n",
      "1.82 ms ± 17.8 µs per loop (mean ± std. dev. of 7 runs, 1,000 loops each)\n"
     ]
    }
   ],
   "source": [
    "print(part1(data))\n",
    "print(part2(data))\n",
    "print(\"Part 1\")\n",
    "%timeit part1(data)\n",
    "print(\"Part 2\")\n",
    "%timeit part2(data)"
   ]
  },
  {
   "cell_type": "code",
   "execution_count": 96,
   "id": "ebd8f998",
   "metadata": {},
   "outputs": [
    {
     "name": "stdout",
     "output_type": "stream",
     "text": [
      "55208\n",
      "497 µs ± 2.98 µs per loop (mean ± std. dev. of 7 runs, 1,000 loops each)\n"
     ]
    }
   ],
   "source": [
    "\n",
    "def get_digit(s):\n",
    "    for x in s:\n",
    "        if x in \"0123456789\":\n",
    "            return ord(x) - 48\n",
    "\n",
    "def part1_(data_in):\n",
    "    return sum([10 * get_digit(l) + get_digit(l[::-1]) for l in data_in])\n",
    "\n",
    "print(part1_(data_n)) #should be 55208\n",
    "%timeit part1_(data)"
   ]
  },
  {
   "cell_type": "code",
   "execution_count": 97,
   "id": "360e972a",
   "metadata": {},
   "outputs": [
    {
     "name": "stdout",
     "output_type": "stream",
     "text": [
      "54578\n",
      "1.44 ms ± 12 µs per loop (mean ± std. dev. of 7 runs, 1,000 loops each)\n"
     ]
    }
   ],
   "source": [
    "def first_(s):\n",
    "    r = \"\"\n",
    "    \n",
    "    nums = {\n",
    "        \"e\" : [(\"one\", 1), (\"three\", 3), (\"five\", 5), (\"nine\", 9)],\n",
    "        \"o\" : [(\"two\", 2)],\n",
    "        \"r\" : [(\"four\", 4)],\n",
    "        \"x\" : [(\"six\", 6)],\n",
    "        \"n\" : [(\"seven\", 7)],\n",
    "        \"t\" : [(\"eight\", 8)]\n",
    "    }\n",
    "    \n",
    "    for x in s:\n",
    "        if x in \"0123456789\":\n",
    "            return ord(x) - 48\n",
    "        r += x\n",
    "        if x in nums:\n",
    "            for num, n in nums[x]:\n",
    "                if num in r:\n",
    "                    return n\n",
    "\n",
    "def last_(s):\n",
    "    r = \"\"\n",
    "    \n",
    "    nums = {\n",
    "        \"o\" : [(\"eno\", 1)],\n",
    "        \"t\" : [(\"owt\", 2), (\"eerht\", 3)],\n",
    "        \"f\" : [(\"ruof\", 4), (\"evif\", 5)],\n",
    "        \"s\" : [(\"xis\", 6), (\"neves\", 7)],\n",
    "        \"e\" : [(\"thgie\", 8)],\n",
    "        \"n\" : [(\"enin\", 9)]\n",
    "    }\n",
    "    \n",
    "    \n",
    "    for x in s[::-1]:\n",
    "        if x in \"0123456789\":\n",
    "            return ord(x) - 48\n",
    "        r += x\n",
    "        if x in nums:\n",
    "            for num, n in nums[x]:\n",
    "                if num in r:\n",
    "                    return n\n",
    "\n",
    "def part2_(data_in):\n",
    "    return sum([10 * first_(l) + last_(l) for l in data_in])\n",
    "\n",
    "print(part2_(data)) #should be 54578\n",
    "%timeit part2_(data)"
   ]
  },
  {
   "cell_type": "code",
   "execution_count": 98,
   "id": "e66a2f89",
   "metadata": {},
   "outputs": [
    {
     "name": "stdout",
     "output_type": "stream",
     "text": [
      "Part 1 Original\n",
      "674 µs ± 11.8 µs per loop (mean ± std. dev. of 7 runs, 1,000 loops each)\n",
      "Part 1 New\n",
      "502 µs ± 9.85 µs per loop (mean ± std. dev. of 7 runs, 1,000 loops each)\n",
      "Part 2 Original\n",
      "1.82 ms ± 16.1 µs per loop (mean ± std. dev. of 7 runs, 1,000 loops each)\n",
      "Part 2 New\n",
      "1.44 ms ± 9.86 µs per loop (mean ± std. dev. of 7 runs, 1,000 loops each)\n"
     ]
    }
   ],
   "source": [
    "print(\"Part 1 Original\")\n",
    "%timeit part1(data)\n",
    "print(\"Part 1 New\")\n",
    "%timeit part1_(data)\n",
    "print(\"Part 2 Original\")\n",
    "%timeit part2(data)\n",
    "print(\"Part 2 New\")\n",
    "%timeit part2_(data)"
   ]
  },
  {
   "cell_type": "code",
   "execution_count": null,
   "id": "d58d5107",
   "metadata": {},
   "outputs": [],
   "source": []
  },
  {
   "cell_type": "code",
   "execution_count": null,
   "id": "63b1eb8d",
   "metadata": {},
   "outputs": [],
   "source": []
  },
  {
   "cell_type": "code",
   "execution_count": null,
   "id": "7160ffa8",
   "metadata": {},
   "outputs": [],
   "source": []
  },
  {
   "cell_type": "code",
   "execution_count": null,
   "id": "9dc7f23b",
   "metadata": {},
   "outputs": [],
   "source": []
  }
 ],
 "metadata": {
  "kernelspec": {
   "display_name": "Python 3 (ipykernel)",
   "language": "python",
   "name": "python3"
  },
  "language_info": {
   "codemirror_mode": {
    "name": "ipython",
    "version": 3
   },
   "file_extension": ".py",
   "mimetype": "text/x-python",
   "name": "python",
   "nbconvert_exporter": "python",
   "pygments_lexer": "ipython3",
   "version": "3.9.12"
  }
 },
 "nbformat": 4,
 "nbformat_minor": 5
}
