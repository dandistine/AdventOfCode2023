{
 "cells": [
  {
   "cell_type": "code",
   "execution_count": 2,
   "id": "e4317d8d",
   "metadata": {},
   "outputs": [],
   "source": [
    "def parse_in():\n",
    "    lines = open(\"Inputs/Day06.txt\").read().strip().split(\"\\n\")\n",
    "    \n",
    "    times = lines[0].split()[1:]\n",
    "    distances = lines[1].split()[1:]\n",
    "    \n",
    "    races = [(int(x), int(y)) for x,y in zip(times, distances)]\n",
    "    \n",
    "    return races\n",
    "\n",
    "#Time:      7  15   30\n",
    "#Distance:  9  40  200\n",
    "\n",
    "data_test = [(7, 9), (15, 40), (30, 200)]\n",
    "\n",
    "data = parse_in()"
   ]
  },
  {
   "cell_type": "code",
   "execution_count": 5,
   "id": "27c0e579",
   "metadata": {},
   "outputs": [
    {
     "data": {
      "text/plain": [
       "1731600"
      ]
     },
     "execution_count": 5,
     "metadata": {},
     "output_type": "execute_result"
    }
   ],
   "source": [
    "#travelled = (time - held) * held\n",
    "\n",
    "def part1(data_in):\n",
    "    y = 1\n",
    "    for race in data_in:\n",
    "        x = 0\n",
    "        for t in range(race[0]):\n",
    "            if (race[0] - t) * t > race[1]:\n",
    "                x += 1\n",
    "        y = y * x\n",
    "    return y\n",
    "\n",
    "part1(data) #should be 1731600"
   ]
  },
  {
   "cell_type": "code",
   "execution_count": 14,
   "id": "a1209d8f",
   "metadata": {},
   "outputs": [
    {
     "name": "stdout",
     "output_type": "stream",
     "text": [
      "40087680\n",
      "1.36 µs ± 19.7 ns per loop (mean ± std. dev. of 7 runs, 1,000,000 loops each)\n"
     ]
    }
   ],
   "source": [
    "from math import sqrt\n",
    "\n",
    "def part2(data_in):\n",
    "    time = int(\"\".join([str(r[0]) for r in data_in]))\n",
    "    dist = int(\"\".join([str(r[1]) for r in data_in]))\n",
    "    \n",
    "    return int(2*sqrt(time * time / 4 - dist))\n",
    "    \n",
    "#     x = 0\n",
    "#     for t in range(time):\n",
    "#         if (time - t) * t > dist:\n",
    "#                 x += 1\n",
    "#     return x\n",
    "\n",
    "print(part2(data)) #should be 40087680\n",
    "%timeit part2(data)"
   ]
  },
  {
   "cell_type": "code",
   "execution_count": null,
   "id": "c522bb13",
   "metadata": {},
   "outputs": [],
   "source": []
  }
 ],
 "metadata": {
  "kernelspec": {
   "display_name": "Python 3 (ipykernel)",
   "language": "python",
   "name": "python3"
  },
  "language_info": {
   "codemirror_mode": {
    "name": "ipython",
    "version": 3
   },
   "file_extension": ".py",
   "mimetype": "text/x-python",
   "name": "python",
   "nbconvert_exporter": "python",
   "pygments_lexer": "ipython3",
   "version": "3.9.12"
  }
 },
 "nbformat": 4,
 "nbformat_minor": 5
}
