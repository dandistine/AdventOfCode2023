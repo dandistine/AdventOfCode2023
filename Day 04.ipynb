{
 "cells": [
  {
   "cell_type": "code",
   "execution_count": 64,
   "id": "18eb730c",
   "metadata": {
    "scrolled": true
   },
   "outputs": [],
   "source": [
    "def parse_in():\n",
    "    ret_val = []\n",
    "    for line in open(\"Inputs/Day04.txt\").read().strip().split(\"\\n\"):\n",
    "        winners, nums = line[9:].split('|')\n",
    "        ret_val.append([set(int(x) for x in winners.split()), set(int(x) for x in nums.split()), 1])\n",
    "        \n",
    "    return ret_val\n",
    "\n",
    "\n",
    "def test_data():\n",
    "    s = \"\"\"Card 1: 41 48 83 86 17 | 83 86  6 31 17  9 48 53\n",
    "Card 2: 13 32 20 16 61 | 61 30 68 82 17 32 24 19\n",
    "Card 3:  1 21 53 59 44 | 69 82 63 72 16 21 14  1\n",
    "Card 4: 41 92 73 84 69 | 59 84 76 51 58  5 54 83\n",
    "Card 5: 87 83 26 28 32 | 88 30 70 12 93 22 82 36\n",
    "Card 6: 31 18 13 56 72 | 74 77 10 23 35 67 36 11\"\"\"\n",
    "    ret_val = []\n",
    "    for line in s.split(\"\\n\"):\n",
    "        _, winners, nums = line.replace(':', '|').split('|')\n",
    "        winners = [int(x) for x in winners.split()]\n",
    "        nums = [int(x) for x in nums.split()]\n",
    "        ret_val.append([set(winners), set(nums), 1])\n",
    "        \n",
    "    return ret_val\n",
    "\n",
    "data = parse_in()\n",
    "#data = test_data()\n",
    "#print(data)"
   ]
  },
  {
   "cell_type": "code",
   "execution_count": 61,
   "id": "55e77b78",
   "metadata": {},
   "outputs": [],
   "source": [
    "def part1(data_in):\n",
    "    total = 0\n",
    "    for card in data_in:\n",
    "        w = card[0] & card[1]\n",
    "        if w:\n",
    "            total += pow(2, len(w) - 1)\n",
    "    return total\n",
    "\n",
    "# should be 26426"
   ]
  },
  {
   "cell_type": "code",
   "execution_count": 10,
   "id": "c9960630",
   "metadata": {},
   "outputs": [
    {
     "data": {
      "text/plain": [
       "26426"
      ]
     },
     "execution_count": 10,
     "metadata": {},
     "output_type": "execute_result"
    }
   ],
   "source": [
    "part1(data)"
   ]
  },
  {
   "cell_type": "code",
   "execution_count": 62,
   "id": "32678605",
   "metadata": {},
   "outputs": [
    {
     "name": "stdout",
     "output_type": "stream",
     "text": [
      "6227972\n"
     ]
    }
   ],
   "source": [
    "def part2(data_in):\n",
    "    total = 0\n",
    "    for i,card in enumerate(data_in):\n",
    "        #print(i, card[2])\n",
    "        total += card[2]\n",
    "        w = card[0] & card[1]\n",
    "        for j in range(len(w)):\n",
    "            if i + j + 1 < len(data_in):\n",
    "                data_in[i + j + 1][2] += card[2]\n",
    "        \n",
    "    return total\n",
    "\n",
    "print(part2([x[:] for x in data]))# should be 6227972\n",
    "#%timeit part2([x[:] for x in data])\n"
   ]
  },
  {
   "cell_type": "code",
   "execution_count": null,
   "id": "12ec1cbe",
   "metadata": {},
   "outputs": [],
   "source": []
  },
  {
   "cell_type": "code",
   "execution_count": 63,
   "id": "eb4e385a",
   "metadata": {},
   "outputs": [
    {
     "name": "stdout",
     "output_type": "stream",
     "text": [
      "1.16 ms ± 17.8 µs per loop (mean ± std. dev. of 7 runs, 1,000 loops each)\n",
      "1.27 ms ± 7.12 µs per loop (mean ± std. dev. of 7 runs, 1,000 loops each)\n"
     ]
    }
   ],
   "source": [
    "%timeit part1([x[:] for x in parse_in()])\n",
    "%timeit part2([x[:] for x in parse_in()])"
   ]
  },
  {
   "cell_type": "code",
   "execution_count": null,
   "id": "e7a96c0b",
   "metadata": {},
   "outputs": [],
   "source": []
  }
 ],
 "metadata": {
  "kernelspec": {
   "display_name": "Python 3 (ipykernel)",
   "language": "python",
   "name": "python3"
  },
  "language_info": {
   "codemirror_mode": {
    "name": "ipython",
    "version": 3
   },
   "file_extension": ".py",
   "mimetype": "text/x-python",
   "name": "python",
   "nbconvert_exporter": "python",
   "pygments_lexer": "ipython3",
   "version": "3.9.12"
  }
 },
 "nbformat": 4,
 "nbformat_minor": 5
}
