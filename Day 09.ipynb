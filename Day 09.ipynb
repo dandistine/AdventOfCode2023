{
 "cells": [
  {
   "cell_type": "code",
   "execution_count": 1,
   "id": "4aa41927",
   "metadata": {},
   "outputs": [],
   "source": [
    "import numpy as np\n",
    "import numba as nb\n",
    "test_str = \"\"\"0 3 6 9 12 15\n",
    "1 3 6 10 15 21\n",
    "10 13 16 21 30 45\"\"\"\n",
    "\n",
    "def parse_in():\n",
    "    return np.array([np.array(l.split(), dtype=int) for l in open(\"Inputs/Day09.txt\").read().strip().split(\"\\n\")])\n",
    "\n",
    "data = parse_in()\n",
    "\n",
    "data_test = [[int(x) for x in l.split()] for l in test_str.strip().split(\"\\n\")]"
   ]
  },
  {
   "cell_type": "code",
   "execution_count": null,
   "id": "356a75d2",
   "metadata": {},
   "outputs": [],
   "source": []
  },
  {
   "cell_type": "code",
   "execution_count": 2,
   "id": "ce64b72e",
   "metadata": {},
   "outputs": [
    {
     "name": "stdout",
     "output_type": "stream",
     "text": [
      "1972648895\n",
      "919\n",
      "919\n",
      "919\n"
     ]
    }
   ],
   "source": [
    "import numpy as np\n",
    "import numba as nb\n",
    "\n",
    "@nb.njit\n",
    "def part1(data_in):\n",
    "    ret_val = 0\n",
    "    for diff in data_in:\n",
    "        ret_val += diff[-1]\n",
    "        while np.any(diff):\n",
    "            diff = np.ediff1d(diff)\n",
    "            ret_val += diff[-1]\n",
    "    return ret_val\n",
    "print(part1(data)) #should be 1972648895\n",
    "print(part1(np.flip(data))) #should be 919\n",
    "print(part1(np.flip(data))) #should be 919\n",
    "print(part1(np.flip(data))) #should be 919"
   ]
  },
  {
   "cell_type": "code",
   "execution_count": 118,
   "id": "6a260bc0",
   "metadata": {},
   "outputs": [
    {
     "name": "stdout",
     "output_type": "stream",
     "text": [
      "1.33 ms ± 15.7 µs per loop (mean ± std. dev. of 7 runs, 1,000 loops each)\n",
      "1.37 ms ± 11.9 µs per loop (mean ± std. dev. of 7 runs, 1,000 loops each)\n"
     ]
    }
   ],
   "source": [
    "\n",
    "%timeit part1(parse_in())\n",
    "%timeit part1(np.flip(parse_in()))"
   ]
  },
  {
   "cell_type": "code",
   "execution_count": 55,
   "id": "b4786978",
   "metadata": {},
   "outputs": [
    {
     "name": "stdout",
     "output_type": "stream",
     "text": [
      "1972648895\n",
      "919\n",
      "492 µs ± 5.79 µs per loop (mean ± std. dev. of 7 runs, 1,000 loops each)\n",
      "487 µs ± 2.36 µs per loop (mean ± std. dev. of 7 runs, 1,000 loops each)\n"
     ]
    }
   ],
   "source": [
    "from math import comb\n",
    "\n",
    "#This is really just lagrange interpolation to a 22nd point.  Part 2 is done by just reversing the data\n",
    "def part1_(data_):\n",
    "    return np.sum(data_ * np.array([comb(len(data[0]), i) * (-1) ** (i) for i in range(len(data[0]))]))\n",
    "\n",
    "print(part1_(parse_in()))\n",
    "print(part1_(np.flip(parse_in())))\n",
    "\n",
    "%timeit part1_(parse_in())\n",
    "%timeit part1_(np.flip(parse_in()))"
   ]
  },
  {
   "cell_type": "code",
   "execution_count": null,
   "id": "41494d3d",
   "metadata": {},
   "outputs": [],
   "source": []
  },
  {
   "cell_type": "code",
   "execution_count": null,
   "id": "530ff67d",
   "metadata": {},
   "outputs": [],
   "source": []
  },
  {
   "cell_type": "code",
   "execution_count": null,
   "id": "c28f4715",
   "metadata": {},
   "outputs": [],
   "source": []
  },
  {
   "cell_type": "code",
   "execution_count": null,
   "id": "c83ef9dc",
   "metadata": {},
   "outputs": [],
   "source": []
  }
 ],
 "metadata": {
  "kernelspec": {
   "display_name": "Python 3 (ipykernel)",
   "language": "python",
   "name": "python3"
  },
  "language_info": {
   "codemirror_mode": {
    "name": "ipython",
    "version": 3
   },
   "file_extension": ".py",
   "mimetype": "text/x-python",
   "name": "python",
   "nbconvert_exporter": "python",
   "pygments_lexer": "ipython3",
   "version": "3.9.12"
  }
 },
 "nbformat": 4,
 "nbformat_minor": 5
}
