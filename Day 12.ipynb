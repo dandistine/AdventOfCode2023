{
 "cells": [
  {
   "cell_type": "code",
   "execution_count": 1,
   "id": "97a2e4ca",
   "metadata": {},
   "outputs": [
    {
     "data": {
      "text/plain": [
       "[('???.###', (1, 1, 3)),\n",
       " ('.??..??...?##.', (1, 1, 3)),\n",
       " ('?#?#?#?#?#?#?#?', (1, 3, 1, 6)),\n",
       " ('????.#...#...', (4, 1, 1)),\n",
       " ('????.######..#####.', (1, 6, 5)),\n",
       " ('?###????????', (3, 2, 1))]"
      ]
     },
     "execution_count": 1,
     "metadata": {},
     "output_type": "execute_result"
    }
   ],
   "source": [
    "test_str = \"\"\"???.### 1,1,3\n",
    ".??..??...?##. 1,1,3\n",
    "?#?#?#?#?#?#?#? 1,3,1,6\n",
    "????.#...#... 4,1,1\n",
    "????.######..#####. 1,6,5\n",
    "?###???????? 3,2,1\"\"\"\n",
    "\n",
    "def parse_in(data_str=None):\n",
    "    if not data_str:\n",
    "        data_str = open(\"Inputs/Day12.txt\").read().strip()\n",
    "    \n",
    "    ret_val = [((y:=l.split())[0], tuple(int(x) for x in y[1].split(\",\"))) for l in data_str.split(\"\\n\")]\n",
    "    return ret_val\n",
    "\n",
    "parse_in(test_str)"
   ]
  },
  {
   "cell_type": "code",
   "execution_count": 2,
   "id": "545d06b3",
   "metadata": {},
   "outputs": [
    {
     "data": {
      "text/plain": [
       "8419"
      ]
     },
     "execution_count": 2,
     "metadata": {},
     "output_type": "execute_result"
    }
   ],
   "source": [
    "from itertools import combinations\n",
    "\n",
    "def part1(data_in):\n",
    "    total = 0\n",
    "    for d in data_in:\n",
    "        g_count = len(d[1])\n",
    "        extra = len(d[0]) - sum(d[1]) - g_count + 1\n",
    "        #nonograms solving technique, find all the possible combinations of the groupings and test them\n",
    "        # one by one\n",
    "        options = combinations(range(g_count + extra), g_count)\n",
    "        o = list(options)\n",
    "        springs = [\"#\"*i for i in d[1]]\n",
    "        match_count = 0\n",
    "        for x in o:\n",
    "            diffs = [x[i + 1] - x[i] for i in range(len(x) - 1)]\n",
    "            diffs = [\".\"*i for i in diffs]            \n",
    "            \n",
    "            val = [None]*(2*g_count - 1)\n",
    "            val[::2] = springs\n",
    "            val[1::2] = diffs\n",
    "            val_str = \".\"*x[0] + \"\".join(val)\n",
    "            val_str += \".\"*(len(d[0]) - len(val_str))\n",
    "            \n",
    "            for i in range(len(val_str)):\n",
    "                if val_str[i] != d[0][i] and d[0][i] != \"?\":\n",
    "                    break\n",
    "            else:\n",
    "                match_count += 1\n",
    "        total += match_count\n",
    "                \n",
    "    return total\n",
    "\n",
    "        \n",
    "part1(parse_in()) #should be 8419"
   ]
  },
  {
   "cell_type": "code",
   "execution_count": 3,
   "id": "04cd03f2",
   "metadata": {},
   "outputs": [
    {
     "name": "stdout",
     "output_type": "stream",
     "text": [
      "160500973317706\n"
     ]
    }
   ],
   "source": [
    "from functools import cache\n",
    "\n",
    "@cache\n",
    "def check(puzzle_str, groups):\n",
    "    #Each group needs a gap of 1 between them so there is a minimum valid \"input length\"\n",
    "    if len(puzzle_str) < (sum(groups) + len(groups) - 1):\n",
    "        #then there can be no more matches here\n",
    "        return 0    \n",
    "    \n",
    "    if puzzle_str[0] == \".\":\n",
    "        #puzzle[0] is a . so remove all the . in front as they are not needed\n",
    "        return check(puzzle_str.lstrip(\".\"), groups)\n",
    "    elif puzzle_str[0] == \"?\":\n",
    "        #puzzle[0] is a ?, return the sum of the cases where it is either a . or #\n",
    "        #      . case just trim the one dot    # case add the # in front\n",
    "        return check(puzzle_str[1:], groups) + check(\"#\" + puzzle_str[1:], groups)\n",
    "    else:#puzzle_str[0] must be a \"#\"\n",
    "        #there are enough \"#\" or \"?\" for the first group\n",
    "        if all(x in \"#?\" for x in puzzle_str[0:groups[0]]):\n",
    "            #If there was only one group left, check that no more groups are \"required\"\n",
    "            if len(groups) == 1:\n",
    "                #if there are no more \"#\" left return 1 else 0\n",
    "                return all(x != \"#\" for x in puzzle_str[groups[0]:])            \n",
    "            \n",
    "            #Immediately after this \"group\" there is another #, this is a failure\n",
    "            if puzzle_str[groups[0]] == \"#\":\n",
    "                return 0\n",
    "                \n",
    "            return check(puzzle_str[groups[0]+1:], groups[1:])\n",
    "        else:\n",
    "            return 0\n",
    "\n",
    "\n",
    "def part2(data_in):\n",
    "    check.cache_clear()\n",
    "    total = 0\n",
    "    \n",
    "    for d in data_in:\n",
    "        puzzle_str = \"?\".join((d[0], d[0],d[0], d[0],d[0]))\n",
    "        groups = d[1]*5\n",
    "        #remove opening and trailing \".\", no need to carry them around\n",
    "        total += check(puzzle_str.strip(\".\").lstrip(\".\"), groups)\n",
    "    \n",
    "    return total\n",
    "\n",
    "print(part2(parse_in())) #should be 160500973317706\n"
   ]
  },
  {
   "cell_type": "code",
   "execution_count": 4,
   "id": "ce460c38",
   "metadata": {},
   "outputs": [
    {
     "name": "stdout",
     "output_type": "stream",
     "text": [
      "110 ms ± 688 µs per loop (mean ± std. dev. of 7 runs, 10 loops each)\n",
      "200 ms ± 1.78 ms per loop (mean ± std. dev. of 7 runs, 1 loop each)\n"
     ]
    }
   ],
   "source": [
    "%timeit part1(parse_in())\n",
    "%timeit part2(parse_in())"
   ]
  },
  {
   "cell_type": "code",
   "execution_count": null,
   "id": "c67f7ccb",
   "metadata": {},
   "outputs": [],
   "source": []
  },
  {
   "cell_type": "code",
   "execution_count": null,
   "id": "a0898983",
   "metadata": {},
   "outputs": [],
   "source": []
  },
  {
   "cell_type": "code",
   "execution_count": null,
   "id": "c1e7c2d6",
   "metadata": {},
   "outputs": [],
   "source": []
  },
  {
   "cell_type": "code",
   "execution_count": null,
   "id": "b555d1c5",
   "metadata": {},
   "outputs": [],
   "source": []
  }
 ],
 "metadata": {
  "kernelspec": {
   "display_name": "Python 3 (ipykernel)",
   "language": "python",
   "name": "python3"
  },
  "language_info": {
   "codemirror_mode": {
    "name": "ipython",
    "version": 3
   },
   "file_extension": ".py",
   "mimetype": "text/x-python",
   "name": "python",
   "nbconvert_exporter": "python",
   "pygments_lexer": "ipython3",
   "version": "3.9.12"
  }
 },
 "nbformat": 4,
 "nbformat_minor": 5
}
