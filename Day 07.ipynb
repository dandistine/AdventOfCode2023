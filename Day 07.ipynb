{
 "cells": [
  {
   "cell_type": "code",
   "execution_count": 1,
   "id": "a8194b27",
   "metadata": {},
   "outputs": [],
   "source": [
    "def parse_in():\n",
    "    lines = [(x.split()[0], int(x.split()[1])) for x in open(\"Inputs/Day07.txt\").read().strip().split('\\n')]\n",
    "    return lines\n",
    "\n",
    "\n",
    "data_test = [(\"32T3K\", 765), (\"T55J5\", 684), (\"KK677\", 28), (\"KTJJT\", 220), (\"QQQJA\", 483)]\n",
    "data = parse_in()"
   ]
  },
  {
   "cell_type": "code",
   "execution_count": 175,
   "id": "cb9f9bff",
   "metadata": {},
   "outputs": [
    {
     "data": {
      "text/plain": [
       "252656917"
      ]
     },
     "execution_count": 175,
     "metadata": {},
     "output_type": "execute_result"
    }
   ],
   "source": [
    "from functools import cmp_to_key\n",
    "\n",
    "def hand_type(hand):\n",
    "    values = sorted(hand)\n",
    "    \n",
    "    three_present = False\n",
    "    pairs = set()\n",
    "    \n",
    "    for val in values:\n",
    "        if values.count(val) == 5:\n",
    "            return 6\n",
    "        if values.count(val) == 4:\n",
    "            return 5\n",
    "        if values.count(val) == 3:\n",
    "            three_present = True\n",
    "        if values.count(val) == 2:\n",
    "            pairs.add(val)\n",
    "            \n",
    "    if three_present and pairs:\n",
    "        return 4\n",
    "    if three_present:\n",
    "        return 3\n",
    "    if len(pairs) == 2:\n",
    "        return 2\n",
    "    if len(pairs) == 1:\n",
    "        return 1\n",
    "    \n",
    "    return 0\n",
    "    \n",
    "\n",
    "def hand_cmp(h1_in, h2_in):\n",
    "    h1 = h1_in[0]\n",
    "    h2 = h2_in[0]\n",
    "    cards = \"23456789TJQKA\"\n",
    "    h1_t = hand_type(h1)\n",
    "    h2_t = hand_type(h2)\n",
    "\n",
    "    if h1_t > h2_t:\n",
    "        return 1\n",
    "    if h1_t < h2_t:\n",
    "        return -1\n",
    "    \n",
    "    for i in range(5):\n",
    "        c1 = cards.index(h1[i])\n",
    "        c2 = cards.index(h2[i]) \n",
    "        if c1 > c2:\n",
    "            return 1\n",
    "        if c1 < c2:\n",
    "            return -1\n",
    "    else:\n",
    "        return 0\n",
    "\n",
    "    #hand types are the same, compare cards\n",
    "\n",
    "def part1(data_in):\n",
    "    hands = sorted(data_in, key=cmp_to_key(hand_cmp))\n",
    "    total = 0\n",
    "    for i,h in enumerate(hands):\n",
    "        total += (i + 1) * h[1]\n",
    "    #print(hands)\n",
    "    return(total)\n",
    "\n",
    "\n",
    "part1(data) #should be 252656917"
   ]
  },
  {
   "cell_type": "code",
   "execution_count": 69,
   "id": "03d1e39b",
   "metadata": {},
   "outputs": [
    {
     "name": "stdout",
     "output_type": "stream",
     "text": [
      "49.9 ms ± 318 µs per loop (mean ± std. dev. of 7 runs, 10 loops each)\n"
     ]
    }
   ],
   "source": [
    "from collections import Counter\n",
    "\n",
    "def hand_type2(hand):\n",
    "    values = Counter(hand)\n",
    "    j_count = values[\"J\"]\n",
    "    #If there are J but not 5 of them, \"give\" them to the highest counted card\n",
    "    if j_count < 5:\n",
    "        del values[\"J\"]\n",
    "        m = values.most_common()[0][0]\n",
    "        values[m] += j_count\n",
    "        \n",
    "        \n",
    "    if len(values) == 1:\n",
    "        return 6\n",
    "    \n",
    "    m1,m2 = values.most_common(2)\n",
    "    m1,m2 = m1[1],m2[1]\n",
    "    \n",
    "    if m1 == 4:\n",
    "        return 5\n",
    "    if m1 == 3 and m2 == 2:\n",
    "        return 4\n",
    "    if m1 == 3:\n",
    "        return 3\n",
    "    if m1 == 2 and m2 == 2:\n",
    "        return 2\n",
    "    if m1 == 2:\n",
    "        return 1\n",
    "    \n",
    "    return 0    \n",
    "\n",
    "def hand_cmp2(h1_in, h2_in):\n",
    "    h1 = h1_in[0]\n",
    "    h2 = h2_in[0]\n",
    "    cards = \"J23456789TQKA\"\n",
    "    h1_t = hand_type2(h1)\n",
    "    h2_t = hand_type2(h2)\n",
    "\n",
    "    if h1_t > h2_t:\n",
    "        return 1\n",
    "    if h1_t < h2_t:\n",
    "        return -1\n",
    "    \n",
    "    for i in range(5):\n",
    "        c1 = cards.index(h1[i])\n",
    "        c2 = cards.index(h2[i]) \n",
    "        if c1 > c2:\n",
    "            return 1\n",
    "        if c1 < c2:\n",
    "            return -1\n",
    "    else:\n",
    "        return 0\n",
    "\n",
    "    #hand types are the same, compare cards\n",
    "\n",
    "def part2(data_in):\n",
    "    hands = sorted(data_in, key=cmp_to_key(hand_cmp2))\n",
    "    total = 0\n",
    "    for i,h in enumerate(hands):\n",
    "        #if \"J\" in h[0]:\n",
    "        #    print(h[0], hand_type2(h[0]))\n",
    "        total += (i + 1) * h[1]\n",
    "    #rint(hands)\n",
    "    return total\n",
    "    \n",
    "part2(data) #should eb 253499763\n",
    "%timeit part2(data)"
   ]
  },
  {
   "cell_type": "code",
   "execution_count": 173,
   "id": "eb22b031",
   "metadata": {},
   "outputs": [
    {
     "name": "stdout",
     "output_type": "stream",
     "text": [
      "253499763\n",
      "1.7 ms ± 7.8 µs per loop (mean ± std. dev. of 7 runs, 1,000 loops each)\n"
     ]
    }
   ],
   "source": [
    "import timeit\n",
    "\n",
    "def hand_type2_(hand):\n",
    "    values = [0]*14\n",
    "    for i in hand:\n",
    "        values[i] += 1\n",
    "        \n",
    "    j_count = values[0]\n",
    "    del values[0]\n",
    "    values.sort(reverse=True)\n",
    "    \n",
    "    m1, m2 = values[0:2]\n",
    "\n",
    "    return (m1 + j_count) * 4 + m2\n",
    "\n",
    "def part2_(data_in):\n",
    "    total = 0\n",
    "    for i,h in enumerate(sorted([(hand_type2_(y := tuple(\"J23456789TQKA\".index(i) for i in x[0])), *y ,x[1]) for x in data_in])):\n",
    "        total += (i + 1) * h[-1]\n",
    "    return total\n",
    "    \n",
    "print(part2_(data)) #should be 253499763\n",
    "#%timeit part2_(parse_in())\n",
    "%timeit part2_(data)"
   ]
  },
  {
   "cell_type": "code",
   "execution_count": null,
   "id": "036a6774",
   "metadata": {},
   "outputs": [],
   "source": []
  },
  {
   "cell_type": "code",
   "execution_count": null,
   "id": "211e1e53",
   "metadata": {},
   "outputs": [],
   "source": []
  },
  {
   "cell_type": "code",
   "execution_count": null,
   "id": "abf3e1df",
   "metadata": {},
   "outputs": [],
   "source": []
  },
  {
   "cell_type": "code",
   "execution_count": null,
   "id": "abf32efd",
   "metadata": {},
   "outputs": [],
   "source": []
  },
  {
   "cell_type": "code",
   "execution_count": null,
   "id": "b88954c7",
   "metadata": {},
   "outputs": [],
   "source": []
  },
  {
   "cell_type": "code",
   "execution_count": null,
   "id": "96c8f022",
   "metadata": {},
   "outputs": [],
   "source": []
  },
  {
   "cell_type": "code",
   "execution_count": null,
   "id": "ae5662d2",
   "metadata": {},
   "outputs": [],
   "source": []
  },
  {
   "cell_type": "code",
   "execution_count": null,
   "id": "5a7cf1ec",
   "metadata": {},
   "outputs": [],
   "source": []
  }
 ],
 "metadata": {
  "kernelspec": {
   "display_name": "Python 3 (ipykernel)",
   "language": "python",
   "name": "python3"
  },
  "language_info": {
   "codemirror_mode": {
    "name": "ipython",
    "version": 3
   },
   "file_extension": ".py",
   "mimetype": "text/x-python",
   "name": "python",
   "nbconvert_exporter": "python",
   "pygments_lexer": "ipython3",
   "version": "3.9.12"
  }
 },
 "nbformat": 4,
 "nbformat_minor": 5
}
