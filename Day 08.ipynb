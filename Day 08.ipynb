{
 "cells": [
  {
   "cell_type": "code",
   "execution_count": 5,
   "id": "1737ea37",
   "metadata": {},
   "outputs": [],
   "source": [
    "def parse_in():\n",
    "    lines = open(\"Inputs/Day08.txt\").read().strip().split(\"\\n\")\n",
    "    \n",
    "    network = {}\n",
    "    path = [0 if x == \"L\" else 1 for x in lines[0]]\n",
    "    \n",
    "    next_id = 0\n",
    "    \n",
    "    id_map = {}\n",
    "    \n",
    "    network_2 = [0]*len(lines[2:])\n",
    "    \n",
    "    for line in lines[2:]:\n",
    "        l = line.split()\n",
    "        \n",
    "        n1, nl, nr = l[0], l[2][1:-1], l[3][:-1]\n",
    "        network[n1] = (nl, nr)\n",
    "        \n",
    "        if n1 not in id_map:\n",
    "            id_map[n1] = next_id\n",
    "            next_id += 1\n",
    "        if nl not in id_map:\n",
    "            id_map[nl] = next_id\n",
    "            next_id += 1\n",
    "        if nr not in id_map:\n",
    "            id_map[nr] = next_id\n",
    "            next_id += 1\n",
    "        \n",
    "        network_2[id_map[n1]] = (id_map[nl], id_map[nr])\n",
    "    \n",
    "    p1 = (id_map[\"AAA\"], id_map[\"ZZZ\"])\n",
    "    p2 = ([id_map[x] for x in id_map if x[2] == \"A\"], [id_map[x] for x in id_map if x[2] == \"Z\"])\n",
    "    \n",
    "    \n",
    "    return path, network, network_2, p1, p2\n",
    "path, network, network_2, p1, p2 = parse_in()"
   ]
  },
  {
   "cell_type": "code",
   "execution_count": null,
   "id": "a44cd61e",
   "metadata": {},
   "outputs": [],
   "source": []
  },
  {
   "cell_type": "code",
   "execution_count": 28,
   "id": "4d6a3e49",
   "metadata": {},
   "outputs": [
    {
     "data": {
      "text/plain": [
       "19667"
      ]
     },
     "execution_count": 28,
     "metadata": {},
     "output_type": "execute_result"
    }
   ],
   "source": [
    "from itertools import cycle\n",
    "def part1(path, network):\n",
    "    steps = 0\n",
    "    state = 'AAA'\n",
    "    for d in cycle(path):\n",
    "        steps += 1\n",
    "        state = network[state][d]\n",
    "        #if d == \"L\":\n",
    "        #    state = network[state][0]\n",
    "        #else:\n",
    "        #    state = network[state][1]\n",
    "            \n",
    "        if state == \"ZZZ\":\n",
    "            return steps\n",
    "        \n",
    "part1(path, network) #should be 19667"
   ]
  },
  {
   "cell_type": "code",
   "execution_count": 53,
   "id": "18c8cf35",
   "metadata": {},
   "outputs": [
    {
     "name": "stdout",
     "output_type": "stream",
     "text": [
      "9.81 ms ± 32.6 µs per loop (mean ± std. dev. of 7 runs, 100 loops each)\n"
     ]
    }
   ],
   "source": [
    "from itertools import cycle\n",
    "import math\n",
    "\n",
    "def part2(path, network):\n",
    "    steps = 0\n",
    "    state = [x for x in network if x[2] == \"A\"]\n",
    "    cycle_time = [0] * len(state)\n",
    "    for i,s in enumerate(state):\n",
    "        for d in cycle(path):\n",
    "            cycle_time[i] += 1\n",
    "            s = network[s][d]\n",
    "            if s[2] == \"Z\":\n",
    "                break\n",
    "    return math.lcm(*cycle_time)\n",
    "\n",
    "        \n",
    "part2(path, network) #should be 19185263738117\n",
    "%timeit part2(path, network)"
   ]
  },
  {
   "cell_type": "code",
   "execution_count": 4,
   "id": "243e04c9",
   "metadata": {},
   "outputs": [
    {
     "name": "stdout",
     "output_type": "stream",
     "text": [
      "19185263738117\n",
      "6.48 ms ± 36.5 µs per loop (mean ± std. dev. of 7 runs, 100 loops each)\n"
     ]
    }
   ],
   "source": [
    "import math\n",
    "\n",
    "\n",
    "def part2_(path, network, starts, ends_):\n",
    "    ends = ends_[:]\n",
    "    ret_val = 1\n",
    "    for s in starts:\n",
    "        for j,d in enumerate(cycle(path)):\n",
    "            s = network[s][d]\n",
    "            \n",
    "            if s in ends:\n",
    "                ends.remove(s)\n",
    "                ret_val = math.lcm(ret_val, j+1)\n",
    "                break\n",
    "    return ret_val\n",
    "print(part2_(path, network_2, *p2))\n",
    "%timeit part2_(path, network_2, *p2)"
   ]
  },
  {
   "cell_type": "code",
   "execution_count": null,
   "id": "e6acb89e",
   "metadata": {},
   "outputs": [],
   "source": []
  },
  {
   "cell_type": "code",
   "execution_count": null,
   "id": "9f531d07",
   "metadata": {},
   "outputs": [],
   "source": []
  }
 ],
 "metadata": {
  "kernelspec": {
   "display_name": "Python 3 (ipykernel)",
   "language": "python",
   "name": "python3"
  },
  "language_info": {
   "codemirror_mode": {
    "name": "ipython",
    "version": 3
   },
   "file_extension": ".py",
   "mimetype": "text/x-python",
   "name": "python",
   "nbconvert_exporter": "python",
   "pygments_lexer": "ipython3",
   "version": "3.9.12"
  }
 },
 "nbformat": 4,
 "nbformat_minor": 5
}
