{
 "cells": [
  {
   "cell_type": "code",
   "execution_count": 57,
   "id": "1ccc6e5e",
   "metadata": {},
   "outputs": [],
   "source": [
    "#destination source length\n",
    "\n",
    "def parse_map_block(lines):\n",
    "    ret_val = []\n",
    "    for l in lines:\n",
    "        sp = tuple(int(x) for x in l.split())\n",
    "        ret_val.append((sp[0] - sp[1], sp[1], sp[1] + sp[2] - 1 ))\n",
    "        \n",
    "    #By sorting the output we can guarantee that the starting points of each individual mapping\n",
    "    #within a map will be increasing, allowing many extra checks later to be skipped\n",
    "    return sorted(ret_val, key=lambda x: x[1])\n",
    "\n",
    "def parse_in():\n",
    "    lines = open(\"Inputs/Day05.txt\").read().strip().split('\\n')\n",
    "    seeds = [int(x) for x in lines[0].split()[1:]]\n",
    "    \n",
    "    blanks = [i for i,l in enumerate(lines) if l == \"\"]\n",
    "    blanks.append(len(lines))\n",
    "    \n",
    "    maps = []\n",
    "    for b in zip(blanks,blanks[1:]):\n",
    "        maps.append(parse_map_block(lines[b[0]+2:b[1]]))\n",
    "\n",
    "    return seeds, maps\n",
    "\n",
    "def parse_test():\n",
    "    text = \"\"\"seeds: 79 14 55 13\n",
    "\n",
    "seed-to-soil map:\n",
    "50 98 2\n",
    "52 50 48\n",
    "\n",
    "soil-to-fertilizer map:\n",
    "0 15 37\n",
    "37 52 2\n",
    "39 0 15\n",
    "\n",
    "fertilizer-to-water map:\n",
    "49 53 8\n",
    "0 11 42\n",
    "42 0 7\n",
    "57 7 4\n",
    "\n",
    "water-to-light map:\n",
    "88 18 7\n",
    "18 25 70\n",
    "\n",
    "light-to-temperature map:\n",
    "45 77 23\n",
    "81 45 19\n",
    "68 64 13\n",
    "\n",
    "temperature-to-humidity map:\n",
    "0 69 1\n",
    "1 0 69\n",
    "\n",
    "humidity-to-location map:\n",
    "60 56 37\n",
    "56 93 4\"\"\"\n",
    "    lines = text.strip().split('\\n')\n",
    "    seeds = [int(x) for x in lines[0].split()[1:]]\n",
    "    \n",
    "    blanks = [i for i,l in enumerate(lines) if l == \"\"]\n",
    "    blanks.append(len(lines))\n",
    "    \n",
    "    maps = []\n",
    "    for b in zip(blanks,blanks[1:]):\n",
    "        maps.append(parse_map_block(lines[b[0]+2:b[1]]))\n",
    "\n",
    "    return seeds, maps\n",
    "seeds, maps = parse_in()"
   ]
  },
  {
   "cell_type": "code",
   "execution_count": null,
   "id": "b7dfbafc",
   "metadata": {},
   "outputs": [],
   "source": []
  },
  {
   "cell_type": "code",
   "execution_count": 59,
   "id": "c28c7346",
   "metadata": {},
   "outputs": [
    {
     "name": "stdout",
     "output_type": "stream",
     "text": [
      "309796150\n",
      "76.4 µs ± 222 ns per loop (mean ± std. dev. of 7 runs, 10,000 loops each)\n"
     ]
    }
   ],
   "source": [
    "def translate(seed, map_):\n",
    "    for m in map_:\n",
    "        if seed >= m[1] and seed <= m[2]:\n",
    "            return m[0] + seed\n",
    "    return seed\n",
    "\n",
    "def part1(seeds, almanac):\n",
    "    ret_val = 100000000000000000\n",
    "    #6 translations to do\n",
    "    for seed in seeds:\n",
    "        s = seed\n",
    "        for a in almanac:\n",
    "            s = translate(s, a)\n",
    "        ret_val = min(ret_val, s)\n",
    "    return ret_val\n",
    "print(part1(seeds, maps)) #should be 309796150\n",
    "%timeit part1(seeds, maps)"
   ]
  },
  {
   "cell_type": "code",
   "execution_count": 55,
   "id": "e903af1b",
   "metadata": {},
   "outputs": [
    {
     "name": "stdout",
     "output_type": "stream",
     "text": [
      "50716416\n",
      "533 µs ± 3.65 µs per loop (mean ± std. dev. of 7 runs, 1,000 loops each)\n"
     ]
    }
   ],
   "source": [
    "def translate_range(range_in, map_):\n",
    "    new_ranges = []\n",
    "    \n",
    "    while range_in:\n",
    "        start, end = range_in.pop(0)\n",
    "        #determine overlap with each potential mapping\n",
    "        for m0, m1, m2 in map_:\n",
    "            if start <= m2 and end >= m1:\n",
    "                #this overlaps at some point\n",
    "                overlap = (max(start, m1), min(end, m2))\n",
    "                #translate this overlap\n",
    "                new_ranges.append((m0 + overlap[0], m0 + overlap[1]))\n",
    "                \n",
    "                #there is some leftover at the front but the maps in the almanac were sorted by their starting location\n",
    "                #meaning no future map will be affecting this range.  Move it to the new_ranges immediately\n",
    "                if overlap[0] > start:\n",
    "                    new_ranges.append((start, overlap[0] - 1))\n",
    "                #There is some leftover at the end which an upcoming range might touch\n",
    "                if overlap[1] < end:\n",
    "                    range_in.append((overlap[1] + 1, end))\n",
    "                break\n",
    "        else:\n",
    "            new_ranges.append((start, end))\n",
    "\n",
    "    return new_ranges\n",
    "                \n",
    "        \n",
    "\n",
    "def part2(seeds, almanac):\n",
    "    ranges = [(x[0], x[0] + x[1] - 1) for x in list(zip(seeds,seeds[1:]))[::2]]\n",
    "\n",
    "    for m in almanac:\n",
    "        ranges = translate_range(ranges, m)\n",
    "\n",
    "    return min((r[0] for r in ranges))\n",
    "    \n",
    "\n",
    "print(part2(seeds, maps)) # should be 50716416\n",
    "%timeit part2(*parse_in())"
   ]
  },
  {
   "cell_type": "code",
   "execution_count": 60,
   "id": "57455f5e",
   "metadata": {},
   "outputs": [
    {
     "name": "stdout",
     "output_type": "stream",
     "text": [
      "Read in Data\n",
      "200 µs ± 3.66 µs per loop (mean ± std. dev. of 7 runs, 1,000 loops each)\n",
      "Part 1 w/o read data\n",
      "76 µs ± 365 ns per loop (mean ± std. dev. of 7 runs, 10,000 loops each)\n",
      "Part 2 w/o read data\n",
      "315 µs ± 1.55 µs per loop (mean ± std. dev. of 7 runs, 1,000 loops each)\n",
      "Part 1 w/o read data\n",
      "285 µs ± 6.51 µs per loop (mean ± std. dev. of 7 runs, 1,000 loops each)\n",
      "Part 2 w/o read data\n",
      "548 µs ± 12.2 µs per loop (mean ± std. dev. of 7 runs, 1,000 loops each)\n"
     ]
    }
   ],
   "source": [
    "print(\"Read in Data\")\n",
    "%timeit parse_in()\n",
    "print(\"Part 1 w/o read data\")\n",
    "%timeit part1(seeds, maps)\n",
    "print(\"Part 2 w/o read data\")\n",
    "%timeit part2(seeds, maps)\n",
    "print(\"Part 1 w/o read data\")\n",
    "%timeit part1(*parse_in())\n",
    "print(\"Part 2 w/o read data\")\n",
    "%timeit part2(*parse_in())"
   ]
  },
  {
   "cell_type": "code",
   "execution_count": null,
   "id": "d808af88",
   "metadata": {},
   "outputs": [],
   "source": []
  }
 ],
 "metadata": {
  "kernelspec": {
   "display_name": "Python 3 (ipykernel)",
   "language": "python",
   "name": "python3"
  },
  "language_info": {
   "codemirror_mode": {
    "name": "ipython",
    "version": 3
   },
   "file_extension": ".py",
   "mimetype": "text/x-python",
   "name": "python",
   "nbconvert_exporter": "python",
   "pygments_lexer": "ipython3",
   "version": "3.9.12"
  }
 },
 "nbformat": 4,
 "nbformat_minor": 5
}
