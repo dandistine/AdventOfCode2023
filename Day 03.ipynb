{
 "cells": [
  {
   "cell_type": "code",
   "execution_count": 108,
   "id": "ac061432",
   "metadata": {},
   "outputs": [],
   "source": [
    "def parse_in():\n",
    "    return open(\"Inputs/Day03.txt\").read().strip().split('\\n')\n",
    "\n",
    "data = parse_in()"
   ]
  },
  {
   "cell_type": "code",
   "execution_count": 109,
   "id": "c2d5a01b",
   "metadata": {},
   "outputs": [],
   "source": [
    "test_data = \"\"\"467..114..\n",
    "...*......\n",
    "..35..633.\n",
    "......#...\n",
    "617*......\n",
    ".....+.58.\n",
    "..592.....\n",
    "......755.\n",
    "...$.*....\n",
    ".664.598..\"\"\".split('\\n')"
   ]
  },
  {
   "cell_type": "code",
   "execution_count": 110,
   "id": "f45cc94e",
   "metadata": {},
   "outputs": [
    {
     "name": "stdout",
     "output_type": "stream",
     "text": [
      "527364\n"
     ]
    }
   ],
   "source": [
    "from itertools import chain\n",
    "\n",
    "def neighbors(start, length):\n",
    "    s_x, s_y = start\n",
    "    n = set()\n",
    "    \n",
    "    #add the row of points above / below\n",
    "    for i in range(length+2):\n",
    "        n.add((s_x + i - 1, s_y - 1))\n",
    "        n.add((s_x + i - 1, s_y + 1))\n",
    "            \n",
    "    n.add((s_x - 1, s_y))\n",
    "    n.add((s_x + length, s_y))\n",
    "    \n",
    "    return n\n",
    "\n",
    "def part1(data_in):\n",
    "    digits = \"0123456789\"\n",
    "    \n",
    "    part_numbers = []\n",
    "    \n",
    "    symbols = set()\n",
    "    \n",
    "    curr_num = \"\"\n",
    "    \n",
    "    total = 0;\n",
    "    \n",
    "    for y, line in enumerate(data_in):\n",
    "        for x, c in enumerate(line):\n",
    "            if c in digits:\n",
    "                curr_num += c\n",
    "            else:\n",
    "                if curr_num:\n",
    "                    start = (x - len(curr_num), y)\n",
    "                    part_numbers.append((start, int(curr_num), neighbors(start, len(curr_num))))\n",
    "                    curr_num = \"\"\n",
    "                if c != '.':\n",
    "                    symbols.add((x, y))\n",
    "        if curr_num:\n",
    "            start = (x - len(curr_num) + 1, y)\n",
    "            part_numbers.append((start, int(curr_num), neighbors(start, len(curr_num))))\n",
    "            curr_num = \"\"\n",
    "    \n",
    "    for p in part_numbers:\n",
    "        q = symbols & p[2]\n",
    "        if q:\n",
    "            total += p[1]\n",
    "    return total\n",
    "    \n",
    "print(part1(data)) #should be 527364"
   ]
  },
  {
   "cell_type": "code",
   "execution_count": 111,
   "id": "f495a13b",
   "metadata": {},
   "outputs": [
    {
     "name": "stdout",
     "output_type": "stream",
     "text": [
      "79026871\n"
     ]
    }
   ],
   "source": [
    "def part2(data_in):\n",
    "    digits = \"0123456789\"\n",
    "    \n",
    "    part_numbers = []\n",
    "    \n",
    "    gears = set()\n",
    "    \n",
    "    curr_num = \"\"\n",
    "    #l = 0\n",
    "    #total = 0;\n",
    "    \n",
    "    for y, line in enumerate(data_in):\n",
    "        for x, c in enumerate(line):\n",
    "            if c in digits:\n",
    "                curr_num += c\n",
    "            else:\n",
    "                if curr_num:\n",
    "                    start = (x - len(curr_num), y)\n",
    "                    part_numbers.append((curr_num, neighbors(start, len(curr_num))))\n",
    "                    curr_num = \"\"\n",
    "                if c == '*':\n",
    "                    gears.add((x, y))\n",
    "        if curr_num:\n",
    "            start = (x - len(curr_num) + 1, y)\n",
    "            part_numbers.append((curr_num, neighbors(start, len(curr_num))))\n",
    "            curr_num = \"\"\n",
    "\n",
    "    part_numbers = [(int(p[0]), tmp) for p in part_numbers if (tmp:=p[1] & gears)]\n",
    "    \n",
    "    g_dict = {g:1 for g in gears}\n",
    "    \n",
    "    for p in part_numbers:\n",
    "        for n in p[1]:\n",
    "            g_dict[n] = g_dict[n] * p[0] * -1\n",
    "    \n",
    "    return sum(x for x in g_dict.values() if x > 1)\n",
    "\n",
    "print(part2(data)) #should be 79026871"
   ]
  },
  {
   "cell_type": "code",
   "execution_count": 112,
   "id": "812bd52e",
   "metadata": {},
   "outputs": [
    {
     "name": "stdout",
     "output_type": "stream",
     "text": [
      "3.27 ms ± 35.5 µs per loop (mean ± std. dev. of 7 runs, 100 loops each)\n",
      "3.3 ms ± 15.7 µs per loop (mean ± std. dev. of 7 runs, 100 loops each)\n"
     ]
    }
   ],
   "source": [
    "%timeit part1(data)\n",
    "%timeit part2(data)"
   ]
  },
  {
   "cell_type": "code",
   "execution_count": null,
   "id": "5681d96d",
   "metadata": {},
   "outputs": [],
   "source": []
  },
  {
   "cell_type": "code",
   "execution_count": null,
   "id": "b4a53cf5",
   "metadata": {},
   "outputs": [],
   "source": []
  },
  {
   "cell_type": "code",
   "execution_count": null,
   "id": "82b2a162",
   "metadata": {},
   "outputs": [],
   "source": [
    "   "
   ]
  },
  {
   "cell_type": "code",
   "execution_count": null,
   "id": "9563e8d0",
   "metadata": {},
   "outputs": [],
   "source": []
  },
  {
   "cell_type": "code",
   "execution_count": null,
   "id": "70d9508c",
   "metadata": {},
   "outputs": [],
   "source": []
  }
 ],
 "metadata": {
  "kernelspec": {
   "display_name": "Python 3 (ipykernel)",
   "language": "python",
   "name": "python3"
  },
  "language_info": {
   "codemirror_mode": {
    "name": "ipython",
    "version": 3
   },
   "file_extension": ".py",
   "mimetype": "text/x-python",
   "name": "python",
   "nbconvert_exporter": "python",
   "pygments_lexer": "ipython3",
   "version": "3.9.12"
  }
 },
 "nbformat": 4,
 "nbformat_minor": 5
}
