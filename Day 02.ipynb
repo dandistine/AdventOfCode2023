{
 "cells": [
  {
   "cell_type": "code",
   "execution_count": 90,
   "id": "bd129b85",
   "metadata": {},
   "outputs": [],
   "source": [
    "import math\n",
    "\n",
    "def parse_in():\n",
    "    ret_val = {}\n",
    "    for line in open(\"Inputs/Day02.txt\").read().strip().split('\\n'):\n",
    "        game, rest = line.split(': ')\n",
    "        game_num = int(game.split()[1])\n",
    "        rounds = rest.split('; ')\n",
    "        r = []\n",
    "        for x in rounds:\n",
    "            t = {}\n",
    "            dice = x.split(', ')\n",
    "            for d in dice:\n",
    "                n, c = d.split()\n",
    "                t[c] = int(n)\n",
    "            r.append(t)\n",
    "        ret_val[game_num] = r\n",
    "    \n",
    "    return ret_val\n",
    "\n",
    "def parse_in_new():\n",
    "    idx = {\"red\":0, \"blue\":1, \"green\":2}\n",
    "    ret_val = []\n",
    "    for line in open(\"Inputs/Day02.txt\").read().strip().split('\\n'):\n",
    "        rest = line.split(': ')[1].replace(\";\", \",\").split(', ')\n",
    "        colors = [0, 0, 0]\n",
    "        for d in rest:\n",
    "            val, c = d.split()\n",
    "            c = idx[c]\n",
    "            colors[c] = max(int(val), colors[c])\n",
    "        ret_val.append(colors)\n",
    "    return ret_val\n",
    "\n",
    "data = parse_in()\n",
    "data2 = parse_in_new()"
   ]
  },
  {
   "cell_type": "code",
   "execution_count": null,
   "id": "cd4a739d",
   "metadata": {},
   "outputs": [],
   "source": []
  },
  {
   "cell_type": "code",
   "execution_count": 91,
   "id": "c6b68ca9",
   "metadata": {},
   "outputs": [
    {
     "name": "stdout",
     "output_type": "stream",
     "text": [
      "2679\n"
     ]
    }
   ],
   "source": [
    "def part1(data_in):\n",
    "    colors = {\"red\":12, \"green\":13, \"blue\":14}\n",
    "    total = 0\n",
    "    for d, game in data_in.items():\n",
    "        good = True\n",
    "        for g in game:\n",
    "            for c in colors:\n",
    "                if g.get(c, 0) > colors[c]:\n",
    "                    good = False\n",
    "                    break\n",
    "            if not good:\n",
    "                break\n",
    "        \n",
    "        if good:\n",
    "            #print(d)\n",
    "            total += d\n",
    "    return total\n",
    "            \n",
    "print(part1(data)) #should be 2679"
   ]
  },
  {
   "cell_type": "code",
   "execution_count": 92,
   "id": "41c97dde",
   "metadata": {},
   "outputs": [
    {
     "name": "stdout",
     "output_type": "stream",
     "text": [
      "77607\n"
     ]
    }
   ],
   "source": [
    "def part2(data_in):\n",
    "    total = 0\n",
    "    for d, game in data_in.items():\n",
    "        colors = {\"red\":0, \"green\":0, \"blue\":0}\n",
    "        for g in game:\n",
    "            for c in g:\n",
    "                colors[c] = max(g[c], colors[c])\n",
    "        power = colors[\"red\"]*colors[\"green\"]*colors[\"blue\"]\n",
    "        total += power\n",
    "    return total\n",
    "print(part2(data)) #should be 77607"
   ]
  },
  {
   "cell_type": "code",
   "execution_count": null,
   "id": "165d439a",
   "metadata": {},
   "outputs": [],
   "source": []
  },
  {
   "cell_type": "code",
   "execution_count": 93,
   "id": "c7078250",
   "metadata": {},
   "outputs": [
    {
     "name": "stdout",
     "output_type": "stream",
     "text": [
      "2679\n"
     ]
    }
   ],
   "source": [
    "#only need the max of any given color\n",
    "def part1_(data_in):\n",
    "    total = 0\n",
    "    j = 1\n",
    "    for game in data_in:\n",
    "        if 12 >= game[0] and 14 >= game[1] and 13 >= game[2]:\n",
    "            total += j\n",
    "        j += 1\n",
    "            \n",
    "    return total\n",
    "print(part1_(data2)) #should be 2679"
   ]
  },
  {
   "cell_type": "code",
   "execution_count": 94,
   "id": "90803ce8",
   "metadata": {},
   "outputs": [
    {
     "name": "stdout",
     "output_type": "stream",
     "text": [
      "77607\n",
      "444 µs ± 6.2 µs per loop (mean ± std. dev. of 7 runs, 1,000 loops each)\n"
     ]
    }
   ],
   "source": [
    "def part2_(data_in):\n",
    "    return sum((math.prod(g) for g in data_in))\n",
    "print(part2_(parse_in_new())) #should be 77607\n",
    "%timeit part2_(parse_in_new())"
   ]
  },
  {
   "cell_type": "code",
   "execution_count": 95,
   "id": "25903cd8",
   "metadata": {},
   "outputs": [
    {
     "name": "stdout",
     "output_type": "stream",
     "text": [
      "Read data Original\n",
      "416 µs ± 2.25 µs per loop (mean ± std. dev. of 7 runs, 1,000 loops each)\n",
      "Part1 Original - w/o Read Data\n",
      "56.7 µs ± 255 ns per loop (mean ± std. dev. of 7 runs, 10,000 loops each)\n",
      "Part1 Original - w Read Data\n",
      "478 µs ± 3.89 µs per loop (mean ± std. dev. of 7 runs, 1,000 loops each)\n",
      "Part2 Original - w/o Read Data\n",
      "153 µs ± 309 ns per loop (mean ± std. dev. of 7 runs, 10,000 loops each)\n",
      "Part2 Original - w Read Data\n",
      "579 µs ± 1.93 µs per loop (mean ± std. dev. of 7 runs, 1,000 loops each)\n",
      "Read data New\n",
      "414 µs ± 1.21 µs per loop (mean ± std. dev. of 7 runs, 1,000 loops each)\n",
      "Part1 New - w/o Read Data\n",
      "6.7 µs ± 44.8 ns per loop (mean ± std. dev. of 7 runs, 100,000 loops each)\n",
      "Part1 New - w Read Data\n",
      "424 µs ± 2.14 µs per loop (mean ± std. dev. of 7 runs, 1,000 loops each)\n",
      "Part2 New - w/o Read Data\n",
      "7.27 µs ± 68.1 ns per loop (mean ± std. dev. of 7 runs, 100,000 loops each)\n",
      "Part2 New - w Read Data\n",
      "422 µs ± 2.73 µs per loop (mean ± std. dev. of 7 runs, 1,000 loops each)\n"
     ]
    }
   ],
   "source": [
    "print(\"Read data Original\")\n",
    "%timeit parse_in()\n",
    "print(\"Part1 Original - w/o Read Data\")\n",
    "%timeit part1(data)\n",
    "print(\"Part1 Original - w Read Data\")\n",
    "%timeit part1(parse_in())\n",
    "print(\"Part2 Original - w/o Read Data\")\n",
    "%timeit part2(data)\n",
    "print(\"Part2 Original - w Read Data\")\n",
    "%timeit part2(parse_in())\n",
    "print(\"Read data New\")\n",
    "%timeit parse_in()\n",
    "print(\"Part1 New - w/o Read Data\")\n",
    "%timeit part1_(data2)\n",
    "print(\"Part1 New - w Read Data\")\n",
    "%timeit part1_(parse_in_new())\n",
    "print(\"Part2 New - w/o Read Data\")\n",
    "%timeit part2_(data2)\n",
    "print(\"Part2 New - w Read Data\")\n",
    "%timeit part2_(parse_in_new())\n"
   ]
  },
  {
   "cell_type": "code",
   "execution_count": null,
   "id": "c14495d4",
   "metadata": {},
   "outputs": [],
   "source": []
  },
  {
   "cell_type": "code",
   "execution_count": null,
   "id": "a9cb9bfc",
   "metadata": {},
   "outputs": [],
   "source": []
  },
  {
   "cell_type": "code",
   "execution_count": null,
   "id": "8829daef",
   "metadata": {},
   "outputs": [],
   "source": []
  }
 ],
 "metadata": {
  "kernelspec": {
   "display_name": "Python 3 (ipykernel)",
   "language": "python",
   "name": "python3"
  },
  "language_info": {
   "codemirror_mode": {
    "name": "ipython",
    "version": 3
   },
   "file_extension": ".py",
   "mimetype": "text/x-python",
   "name": "python",
   "nbconvert_exporter": "python",
   "pygments_lexer": "ipython3",
   "version": "3.9.12"
  }
 },
 "nbformat": 4,
 "nbformat_minor": 5
}
